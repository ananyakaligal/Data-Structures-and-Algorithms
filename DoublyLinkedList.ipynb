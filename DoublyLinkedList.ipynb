{
  "nbformat": 4,
  "nbformat_minor": 0,
  "metadata": {
    "colab": {
      "provenance": [],
      "authorship_tag": "ABX9TyP/JjXWdeRTOaoXg/3vVjN6",
      "include_colab_link": true
    },
    "kernelspec": {
      "name": "python3",
      "display_name": "Python 3"
    },
    "language_info": {
      "name": "python"
    }
  },
  "cells": [
    {
      "cell_type": "markdown",
      "metadata": {
        "id": "view-in-github",
        "colab_type": "text"
      },
      "source": [
        "<a href=\"https://colab.research.google.com/github/ananyakaligal/Data-Structures-and-Algorithms/blob/main/DoublyLinkedList.ipynb\" target=\"_parent\"><img src=\"https://colab.research.google.com/assets/colab-badge.svg\" alt=\"Open In Colab\"/></a>"
      ]
    },
    {
      "cell_type": "code",
      "execution_count": 1,
      "metadata": {
        "id": "2xHNUj1JMy2G"
      },
      "outputs": [],
      "source": [
        "class Node:\n",
        "    def __init__(self, val=0):\n",
        "        self.val = val\n",
        "        self.next = None\n",
        "        self.prev = None"
      ]
    },
    {
      "cell_type": "code",
      "source": [
        "class DoublyLinkedList:\n",
        "    def __init__(self):\n",
        "        self.head = None\n",
        "\n",
        "    def append(self, val):\n",
        "        new_node = Node(val)\n",
        "        if not self.head:\n",
        "            self.head = new_node\n",
        "            return\n",
        "        last = self.head\n",
        "        while last.next:\n",
        "            last = last.next\n",
        "        last.next = new_node\n",
        "        new_node.prev = last\n",
        "\n",
        "    def prepend(self, val):\n",
        "        new_node = Node(val)\n",
        "        if not self.head:\n",
        "            self.head = new_node\n",
        "            return\n",
        "        self.head.prev = new_node\n",
        "        new_node.next = self.head\n",
        "        self.head = new_node\n",
        "\n",
        "    def delete(self, val):\n",
        "        current = self.head\n",
        "        while current:\n",
        "            if current.val == val:\n",
        "                if current.prev:\n",
        "                    current.prev.next = current.next\n",
        "                if current.next:\n",
        "                    current.next.prev = current.prev\n",
        "                if current == self.head:  # move head if needed\n",
        "                    self.head = current.next\n",
        "                return\n",
        "            current = current.next\n",
        "\n",
        "    def display_forward(self):\n",
        "        current = self.head\n",
        "        while current:\n",
        "            print(current.val, end=\" <-> \" if current.next else \"\\n\")\n",
        "            current = current.next\n",
        "\n",
        "    def display_backward(self):\n",
        "        current = self.head\n",
        "        while current and current.next:\n",
        "            current = current.next\n",
        "        while current:\n",
        "            print(current.val, end=\" <-> \" if current.prev else \"\\n\")\n",
        "            current = current.prev"
      ],
      "metadata": {
        "id": "p5j8NmTfM11F"
      },
      "execution_count": 4,
      "outputs": []
    },
    {
      "cell_type": "code",
      "source": [
        "dll = DoublyLinkedList()\n",
        "dll.append(1)\n",
        "dll.append(2)\n",
        "dll.append(3)\n",
        "dll.prepend(0)\n",
        "\n",
        "print(\"Forward display:\")\n",
        "dll.display_forward()\n",
        "\n",
        "print(\"Backward display:\")\n",
        "dll.display_backward()\n",
        "\n",
        "dll.delete(2)"
      ],
      "metadata": {
        "colab": {
          "base_uri": "https://localhost:8080/"
        },
        "id": "REoqxPTbM5qn",
        "outputId": "dc2c221a-41d0-4845-ba65-615f562bdc62"
      },
      "execution_count": 6,
      "outputs": [
        {
          "output_type": "stream",
          "name": "stdout",
          "text": [
            "Forward display:\n",
            "0 <-> 1 <-> 2 <-> 3\n",
            "Backward display:\n",
            "3 <-> 2 <-> 1 <-> 0\n"
          ]
        }
      ]
    },
    {
      "cell_type": "code",
      "source": [],
      "metadata": {
        "id": "QNK1seBcNRvS"
      },
      "execution_count": null,
      "outputs": []
    }
  ]
}