{
  "nbformat": 4,
  "nbformat_minor": 0,
  "metadata": {
    "colab": {
      "provenance": [],
      "authorship_tag": "ABX9TyNh5nwJWjBdzSksrMOfUYOx",
      "include_colab_link": true
    },
    "kernelspec": {
      "name": "python3",
      "display_name": "Python 3"
    },
    "language_info": {
      "name": "python"
    }
  },
  "cells": [
    {
      "cell_type": "markdown",
      "metadata": {
        "id": "view-in-github",
        "colab_type": "text"
      },
      "source": [
        "<a href=\"https://colab.research.google.com/github/ananyakaligal/Data-Structures-and-Algorithms/blob/main/Activation_Functions.ipynb\" target=\"_parent\"><img src=\"https://colab.research.google.com/assets/colab-badge.svg\" alt=\"Open In Colab\"/></a>"
      ]
    },
    {
      "cell_type": "code",
      "source": [
        "import math\n",
        "\n",
        "def basic_sigmoid(x):\n",
        "    s = 1/(1+math.exp(-x))\n",
        "    return s\n",
        "\n",
        "basic_sigmoid(-1)"
      ],
      "metadata": {
        "colab": {
          "base_uri": "https://localhost:8080/"
        },
        "id": "idRGsivGF3xJ",
        "outputId": "7a630a54-e4f9-41e5-f147-1b82d57e2783"
      },
      "execution_count": 21,
      "outputs": [
        {
          "output_type": "execute_result",
          "data": {
            "text/plain": [
              "0.2689414213699951"
            ]
          },
          "metadata": {},
          "execution_count": 21
        }
      ]
    },
    {
      "cell_type": "code",
      "source": [
        "#Example of vector operation\n",
        "\n",
        "import numpy as np\n",
        "\n",
        "x=np.array([1,2,3])\n",
        "print(np.exp(x))\n",
        "print(x+3)"
      ],
      "metadata": {
        "colab": {
          "base_uri": "https://localhost:8080/"
        },
        "id": "2_KCXgBFGDDe",
        "outputId": "93dcffc0-847a-4540-eff1-557c01f4b296"
      },
      "execution_count": 10,
      "outputs": [
        {
          "output_type": "stream",
          "name": "stdout",
          "text": [
            "[ 2.71828183  7.3890561  20.08553692]\n",
            "[4 5 6]\n"
          ]
        }
      ]
    },
    {
      "cell_type": "code",
      "source": [
        "#sigmoid\n",
        "\n",
        "import numpy as np\n",
        "\n",
        "def sigmoid(x):\n",
        "  s=1/(1+np.exp(-x))\n",
        "  return s\n",
        "\n",
        "x=np.array([1,2,3])\n",
        "y=sigmoid(x)\n",
        "y"
      ],
      "metadata": {
        "colab": {
          "base_uri": "https://localhost:8080/"
        },
        "id": "dDWjs2ReG1YF",
        "outputId": "b936b1a1-d116-4304-f384-dabc0eae1a8d"
      },
      "execution_count": 26,
      "outputs": [
        {
          "output_type": "execute_result",
          "data": {
            "text/plain": [
              "array([0.73105858, 0.88079708, 0.95257413])"
            ]
          },
          "metadata": {},
          "execution_count": 26
        }
      ]
    },
    {
      "cell_type": "code",
      "source": [
        "def sigmoid_derivative(y):\n",
        "  return y*(1-y)\n",
        "\n",
        "sigmoid_derivative(y)"
      ],
      "metadata": {
        "colab": {
          "base_uri": "https://localhost:8080/"
        },
        "id": "sWSiM4T3JiK0",
        "outputId": "1ced0f6b-230e-4217-8541-a7eab9ff7034"
      },
      "execution_count": 27,
      "outputs": [
        {
          "output_type": "execute_result",
          "data": {
            "text/plain": [
              "array([0.19661193, 0.10499359, 0.04517666])"
            ]
          },
          "metadata": {},
          "execution_count": 27
        }
      ]
    },
    {
      "cell_type": "code",
      "source": [
        "#image2vector\n",
        "\n",
        "def image2vector(image):\n",
        "  length,height,depth=image.shape\n",
        "  return image.reshape(length*height*depth,1)\n",
        "\n",
        "image2vector(np.array([[[0.67826139,0.29380381],[.90714982,0.52835647],[0.4515251,.45097551]],[[0.645826139,0.78380381],[.67714982,0.12835647],[0.26615251,.55017551]],[[0.5826139,0.2953380381],[.90714982,0.52835647],[0.4215251,.45017551]]]))"
      ],
      "metadata": {
        "colab": {
          "base_uri": "https://localhost:8080/"
        },
        "id": "dV0LV5d0J0uW",
        "outputId": "3b2ca226-0fd6-4a66-dc46-f2d5703d7a64"
      },
      "execution_count": 28,
      "outputs": [
        {
          "output_type": "execute_result",
          "data": {
            "text/plain": [
              "array([[0.67826139],\n",
              "       [0.29380381],\n",
              "       [0.90714982],\n",
              "       [0.52835647],\n",
              "       [0.4515251 ],\n",
              "       [0.45097551],\n",
              "       [0.64582614],\n",
              "       [0.78380381],\n",
              "       [0.67714982],\n",
              "       [0.12835647],\n",
              "       [0.26615251],\n",
              "       [0.55017551],\n",
              "       [0.5826139 ],\n",
              "       [0.29533804],\n",
              "       [0.90714982],\n",
              "       [0.52835647],\n",
              "       [0.4215251 ],\n",
              "       [0.45017551]])"
            ]
          },
          "metadata": {},
          "execution_count": 28
        }
      ]
    },
    {
      "cell_type": "code",
      "source": [
        "#Normalizing rows\n",
        "\n",
        "def normalizerows(x):\n",
        "  norm=np.linalg.norm(x,axis=1,keepdims=True)\n",
        "  #print(norm)\n",
        "  return x/norm,norm.shape\n",
        "\n",
        "x_norm,shape=normalizerows([[0,1000,4],[2,6,4]])\n",
        "print(x_norm)\n",
        "#print(shape)"
      ],
      "metadata": {
        "colab": {
          "base_uri": "https://localhost:8080/"
        },
        "id": "uciHvRBGLkhx",
        "outputId": "b95e9e7f-b5c7-4bc2-ecf0-1e5d2f92c6ef"
      },
      "execution_count": 33,
      "outputs": [
        {
          "output_type": "stream",
          "name": "stdout",
          "text": [
            "[[0.         0.999992   0.00399997]\n",
            " [0.26726124 0.80178373 0.53452248]]\n"
          ]
        }
      ]
    },
    {
      "cell_type": "code",
      "source": [
        "#Softmax\n",
        "\n",
        "def softmax(x):\n",
        "  x_exp=np.exp(x)\n",
        "  x_sum=np.sum(x_exp,axis=1,keepdims=True)\n",
        "  return x_exp/x_sum\n",
        "\n",
        "x=np.array([[9,2,5,0,0],[7,5,0,0,0]])\n",
        "softmax(x)"
      ],
      "metadata": {
        "id": "mw7vfhISO_42",
        "outputId": "c338e916-017f-492e-938c-7238d58abe7a",
        "colab": {
          "base_uri": "https://localhost:8080/"
        }
      },
      "execution_count": 34,
      "outputs": [
        {
          "output_type": "execute_result",
          "data": {
            "text/plain": [
              "array([[9.80897665e-01, 8.94462891e-04, 1.79657674e-02, 1.21052389e-04,\n",
              "        1.21052389e-04],\n",
              "       [8.78679856e-01, 1.18916387e-01, 8.01252314e-04, 8.01252314e-04,\n",
              "        8.01252314e-04]])"
            ]
          },
          "metadata": {},
          "execution_count": 34
        }
      ]
    },
    {
      "cell_type": "code",
      "source": [
        "import time\n",
        "x1 = [9, 2, 5, 0, 0, 7, 5, 0, 0, 0, 9, 2, 5, 0, 0]\n",
        "x2 = [9, 2, 2, 9, 0, 9, 2, 5, 0, 0, 9, 2, 5, 0, 0]\n",
        "\n",
        "st = time.process_time()\n",
        "dot = 0\n",
        "\n",
        "for i in range(len(x1)):\n",
        "    dot += x1[i]*x2[i]\n",
        "\n",
        "sp = time.process_time()\n",
        "\n",
        "print(f\"Time took : {sp-st}\")\n",
        "print(f\"Dot product : {dot}\")\n",
        "\n",
        "st = time.process_time()\n",
        "dot = np.dot(x1, x2)\n",
        "sp = time.process_time()\n",
        "\n",
        "print(f\"Time took : {sp-st}\")"
      ],
      "metadata": {
        "id": "U-ifXPXaSKpx",
        "outputId": "4e589720-89d4-41d1-eb67-6db9d1926a99",
        "colab": {
          "base_uri": "https://localhost:8080/"
        }
      },
      "execution_count": 36,
      "outputs": [
        {
          "output_type": "stream",
          "name": "stdout",
          "text": [
            "Time took : 0.00017611599999867167\n",
            "Dot product : 278\n",
            "Time took : 0.0002746870000009949\n"
          ]
        }
      ]
    },
    {
      "cell_type": "code",
      "source": [],
      "metadata": {
        "id": "T3boeRnBTu9O"
      },
      "execution_count": null,
      "outputs": []
    }
  ]
}