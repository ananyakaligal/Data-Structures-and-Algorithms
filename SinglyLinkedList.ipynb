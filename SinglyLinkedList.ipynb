{
  "nbformat": 4,
  "nbformat_minor": 0,
  "metadata": {
    "colab": {
      "provenance": [],
      "authorship_tag": "ABX9TyNJOp4WSAYPzhCrkc9TIrUn",
      "include_colab_link": true
    },
    "kernelspec": {
      "name": "python3",
      "display_name": "Python 3"
    },
    "language_info": {
      "name": "python"
    }
  },
  "cells": [
    {
      "cell_type": "markdown",
      "metadata": {
        "id": "view-in-github",
        "colab_type": "text"
      },
      "source": [
        "<a href=\"https://colab.research.google.com/github/ananyakaligal/Data-Structures-and-Algorithms/blob/main/SinglyLinkedList.ipynb\" target=\"_parent\"><img src=\"https://colab.research.google.com/assets/colab-badge.svg\" alt=\"Open In Colab\"/></a>"
      ]
    },
    {
      "cell_type": "code",
      "execution_count": 9,
      "metadata": {
        "colab": {
          "base_uri": "https://localhost:8080/"
        },
        "id": "LXur8MHc399D",
        "outputId": "47f07b74-9f3e-4070-8d37-aa82a446734c"
      },
      "outputs": [
        {
          "output_type": "stream",
          "name": "stdout",
          "text": [
            "<__main__.node object at 0x7c007cba12a0>\n"
          ]
        }
      ],
      "source": [
        "#create node\n",
        "class node:\n",
        "  def __init__(self,data):\n",
        "    self.data=data\n",
        "    self.ref=None\n",
        "\n",
        "node1=node(10)\n",
        "\n",
        "print(node1) #Will print reference of your node"
      ]
    },
    {
      "cell_type": "code",
      "source": [
        "#Creating a linked list\n",
        "class LinkedList:\n",
        "\n",
        "  def __init__(self):\n",
        "    self.head=None #creating an empty linked list\n",
        "\n",
        "  #Traversing through linkedList\n",
        "  def print_LL(self):\n",
        "    if self.head is None:\n",
        "      print(\"Linked list is empty\") #check whether the linked list is empty\n",
        "    else:\n",
        "      n=self.head\n",
        "      while n is not None:\n",
        "        print(n.data)\n",
        "        n=n.ref\n",
        "\n",
        "  #Inserting elements to an empty LinkedList\n",
        "  def add_to_empty(self,data):\n",
        "    if self.head==None:\n",
        "      new_node=node(data)\n",
        "      self.head=new_node\n",
        "    else:\n",
        "      print(\"The list is not empty\")\n",
        "\n",
        "  #Insert at the beginning\n",
        ""
      ],
      "metadata": {
        "id": "_TVu2qzF50Te"
      },
      "execution_count": 10,
      "outputs": []
    },
    {
      "cell_type": "code",
      "source": [
        "LL1=LinkedList()\n",
        "LL1.print_LL()\n",
        "\n",
        "LL1.add_to_empty(10)\n",
        "LL1.print_LL()"
      ],
      "metadata": {
        "id": "-Xf34f2i-v93",
        "colab": {
          "base_uri": "https://localhost:8080/"
        },
        "outputId": "c500a584-3716-446a-c5bd-0d6cc3cb7793"
      },
      "execution_count": 11,
      "outputs": [
        {
          "output_type": "stream",
          "name": "stdout",
          "text": [
            "Linked list is empty\n",
            "10\n"
          ]
        }
      ]
    },
    {
      "cell_type": "code",
      "source": [],
      "metadata": {
        "id": "60moTz92EmBb"
      },
      "execution_count": null,
      "outputs": []
    }
  ]
}