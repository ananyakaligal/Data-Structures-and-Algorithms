{
  "nbformat": 4,
  "nbformat_minor": 0,
  "metadata": {
    "colab": {
      "provenance": [],
      "authorship_tag": "ABX9TyNAxa83MZ1irSTQdx6dodrG",
      "include_colab_link": true
    },
    "kernelspec": {
      "name": "python3",
      "display_name": "Python 3"
    },
    "language_info": {
      "name": "python"
    }
  },
  "cells": [
    {
      "cell_type": "markdown",
      "metadata": {
        "id": "view-in-github",
        "colab_type": "text"
      },
      "source": [
        "<a href=\"https://colab.research.google.com/github/ananyakaligal/Data-Structures-and-Algorithms/blob/main/SinglyLinkedList.ipynb\" target=\"_parent\"><img src=\"https://colab.research.google.com/assets/colab-badge.svg\" alt=\"Open In Colab\"/></a>"
      ]
    },
    {
      "cell_type": "code",
      "execution_count": 22,
      "metadata": {
        "colab": {
          "base_uri": "https://localhost:8080/"
        },
        "id": "LXur8MHc399D",
        "outputId": "20241e03-7601-4cf3-daa6-565b496ec43e"
      },
      "outputs": [
        {
          "output_type": "stream",
          "name": "stdout",
          "text": [
            "<__main__.node object at 0x7c0049f75d50>\n"
          ]
        }
      ],
      "source": [
        "#create node\n",
        "class node:\n",
        "  def __init__(self,data):\n",
        "    self.data=data\n",
        "    self.ref=None\n",
        "\n",
        "node1=node(1)\n",
        "\n",
        "print(node1) #Will print reference of your node"
      ]
    },
    {
      "cell_type": "code",
      "source": [
        "#Creating a linked list\n",
        "class LinkedList:\n",
        "\n",
        "  def __init__(self):\n",
        "    self.head=None #creating an empty linked list\n",
        "\n",
        "  #Traversing through linkedList\n",
        "  def print_LL(self):\n",
        "    if self.head is None:\n",
        "      print(\"Linked list is empty\") #check whether the linked list is empty\n",
        "    else:\n",
        "      n=self.head\n",
        "      while n is not None:\n",
        "        print(n.data)\n",
        "        n=n.ref\n",
        "\n",
        "  #Inserting elements to an empty LinkedList\n",
        "  def add_to_empty(self,data):\n",
        "    if self.head==None:\n",
        "      new_node=node(data)\n",
        "      self.head=new_node\n",
        "    else:\n",
        "      print(\"The list is not empty\")\n",
        "\n",
        "  #Insert at the beginning\n",
        "  def insert_at_beginning(self,data):\n",
        "    new_node=node(data)\n",
        "    new_node.ref=self.head\n",
        "    self.head=new_node\n",
        "\n",
        "  #Insert at the end\n",
        "  def insert_at_end(self,data):\n",
        "    new_node=node(data)\n",
        "    if self.head==None:\n",
        "      self.head=new_node\n",
        "    else:\n",
        "      n=self.head\n",
        "      while n.ref is not None:\n",
        "        n=n.ref\n",
        "      n.ref=new_node\n",
        "\n",
        "  #Insert after a given node\n",
        "  def insert_after(self,data,x):\n",
        "    n=self.head\n",
        "    while n is not None:\n",
        "      if n.data ==x:\n",
        "        break\n",
        "      n=n.ref\n",
        "    if n is None:\n",
        "      print(\"Node is not present in the list\")\n",
        "    else:\n",
        "      new_node = node(data)\n",
        "      new_node.ref = n.ref\n",
        "      n.ref = new_node\n",
        "\n",
        "  #Delete at the beginning\n",
        "  def delete_at_beginning(self):\n",
        "    if self.head is None:\n",
        "      print(\"Linked list is empty\")\n",
        "    else:\n",
        "      self.head=self.head.ref\n",
        "\n",
        "  #Delete at the end\n",
        "  def delete_at_end(self):\n",
        "    if self.head is None:\n",
        "      print(\"Linked list is empty\")\n",
        "    else:\n",
        "      n=self.head\n",
        "      while n.ref.ref is not None:\n",
        "        n=n.ref\n",
        "      n.ref=None\n",
        "\n",
        "  #Delete node by value\n",
        "  def delete_by_value(self,x):\n",
        "    if self.head is None:\n",
        "      print(\"Linked list is empty\")\n",
        "    else:\n",
        "      n=self.head\n",
        "      while n.ref is not None:\n",
        "        if n.ref.data==x:\n",
        "          break\n",
        "        n=n.ref\n",
        "      if n.ref is None:\n",
        "        print(\"Node is not present in the list\")\n",
        "      else:\n",
        "        n.ref=n.ref.ref"
      ],
      "metadata": {
        "id": "_TVu2qzF50Te"
      },
      "execution_count": 25,
      "outputs": []
    },
    {
      "cell_type": "code",
      "source": [
        "LL1=LinkedList()\n",
        "LL1.print_LL()\n",
        "\n",
        "LL1.add_to_empty(10)\n",
        "LL1.insert_at_beginning(67)\n",
        "LL1.insert_at_end(20)\n",
        "LL1.insert_after(30,67)\n",
        "\n",
        "LL1.print_LL()"
      ],
      "metadata": {
        "id": "-Xf34f2i-v93",
        "colab": {
          "base_uri": "https://localhost:8080/"
        },
        "outputId": "b555a48c-25a2-4866-e0ce-bd5fe32d2d17"
      },
      "execution_count": 26,
      "outputs": [
        {
          "output_type": "stream",
          "name": "stdout",
          "text": [
            "Linked list is empty\n",
            "67\n",
            "30\n",
            "10\n",
            "20\n"
          ]
        }
      ]
    },
    {
      "cell_type": "code",
      "source": [
        "LL1.delete_at_beginning()\n",
        "LL1.delete_at_end()\n",
        "LL1.delete_by_value(30)\n",
        "\n",
        "LL1.print_LL()"
      ],
      "metadata": {
        "id": "60moTz92EmBb",
        "colab": {
          "base_uri": "https://localhost:8080/"
        },
        "outputId": "bce8e5a3-1ae2-4bc4-c93b-920d54510d5c"
      },
      "execution_count": 27,
      "outputs": [
        {
          "output_type": "stream",
          "name": "stdout",
          "text": [
            "Node is not present in the list\n",
            "30\n",
            "10\n"
          ]
        }
      ]
    },
    {
      "cell_type": "code",
      "source": [],
      "metadata": {
        "id": "srNMeTIDPGS-"
      },
      "execution_count": null,
      "outputs": []
    }
  ]
}
