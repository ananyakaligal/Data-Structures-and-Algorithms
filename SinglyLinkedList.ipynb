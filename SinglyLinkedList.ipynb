{
  "nbformat": 4,
  "nbformat_minor": 0,
  "metadata": {
    "colab": {
      "provenance": [],
      "authorship_tag": "ABX9TyO3yA9IjkSlpywSZbQroeXo",
      "include_colab_link": true
    },
    "kernelspec": {
      "name": "python3",
      "display_name": "Python 3"
    },
    "language_info": {
      "name": "python"
    }
  },
  "cells": [
    {
      "cell_type": "markdown",
      "metadata": {
        "id": "view-in-github",
        "colab_type": "text"
      },
      "source": [
        "<a href=\"https://colab.research.google.com/github/ananyakaligal/Data-Structures-and-Algorithms/blob/main/SinglyLinkedList.ipynb\" target=\"_parent\"><img src=\"https://colab.research.google.com/assets/colab-badge.svg\" alt=\"Open In Colab\"/></a>"
      ]
    },
    {
      "cell_type": "code",
      "execution_count": 6,
      "metadata": {
        "colab": {
          "base_uri": "https://localhost:8080/"
        },
        "id": "LXur8MHc399D",
        "outputId": "e674ac2b-cc7c-41aa-8395-6b965809ce72"
      },
      "outputs": [
        {
          "output_type": "stream",
          "name": "stdout",
          "text": [
            "<__main__.node object at 0x7c007cba28f0>\n"
          ]
        }
      ],
      "source": [
        "#create node\n",
        "class node:\n",
        "  def __init__(self,data):\n",
        "    self.data=data\n",
        "    self.ref=None\n",
        "\n",
        "node1=node(10)\n",
        "\n",
        "print(node1) #Will print reference of your node"
      ]
    },
    {
      "cell_type": "code",
      "source": [
        "#Creating a linked list\n",
        "class LinkedList:\n",
        "\n",
        "  def __init__(self):\n",
        "    self.head=None #creating an empty linked list\n",
        "\n",
        "  #Traversing through linkedList\n",
        "  def print_LL(self):\n",
        "    if self.head is None:\n",
        "      print(\"Linked list is empty\") #check whether the linked list is empty\n",
        "    else:\n",
        "      n=self.head\n",
        "      while n is not None:\n",
        "        print(n.data)\n",
        "        n=n.ref\n",
        "\n",
        "LL1=LinkedList()\n",
        "LL1.print_LL()"
      ],
      "metadata": {
        "id": "_TVu2qzF50Te",
        "colab": {
          "base_uri": "https://localhost:8080/"
        },
        "outputId": "3bb8ef87-80cb-46bb-c454-521d2de755ca"
      },
      "execution_count": 8,
      "outputs": [
        {
          "output_type": "stream",
          "name": "stdout",
          "text": [
            "Linked list is empty\n"
          ]
        }
      ]
    },
    {
      "cell_type": "code",
      "source": [
        "#Traversing through linkedList\n",
        "if"
      ],
      "metadata": {
        "id": "-Xf34f2i-v93"
      },
      "execution_count": null,
      "outputs": []
    }
  ]
}